{
    "cells": [
        {
            "metadata": {},
            "cell_type": "markdown",
            "source": "#### Add your code below following the instructions given in the course"
        },
        {
            "metadata": {},
            "cell_type": "markdown",
            "source": "<h1><center>My Jupyter Notebook on IBM Watson Studio</center></h1>"
        },
        {
            "metadata": {
                "collapsed": true
            },
            "cell_type": "markdown",
            "source": "Name; Gordon Oboh\n\nOccupation; Graduate Assistant"
        },
        {
            "metadata": {},
            "cell_type": "markdown",
            "source": "*I am interested in data science because ...*"
        },
        {
            "metadata": {},
            "cell_type": "markdown",
            "source": "<h3>String Format Method</h3>"
        },
        {
            "metadata": {},
            "cell_type": "code",
            "source": "\"it can be {} which gives {}\".format(\"'1+1'\",1+1)",
            "execution_count": null,
            "outputs": [
                {
                    "data": {
                        "text/plain": "\"it can be '1+1' which gives 2\""
                    },
                    "execution_count": 5,
                    "metadata": {},
                    "output_type": "execute_result"
                }
            ]
        },
        {
            "metadata": {},
            "cell_type": "markdown",
            "source": "***\nBulleted list\n* List 1\n* List 2\n* List 3\n***\nNumbered list\n1. List 1\n2. List 2\n3. List 3\n***\n\n   <strike>Shamless Plug<strike>\n   \n> [My Github, Please Follow](https://github.com/GordonOboh)\n\n\n\n| Horizontal Rule | Bulleted List | Numbered List | Blocked Quotes | Hyperlinks | Strikethrough | Tables |\n|       ---       |      ---      |      ---      |       ---      |     ---    |      ---      |   ---  |\n|        \u2705       |      \u2705      |      \u2705      |       \u2705       |     \u2705     |       \u2705     |   \u2705   |\n\n***\n    \n| Images | Code/Syntax Highlighting |\n|  ---   |            ---           |\n|   \u274c  |            \u274c            |\n"
        },
        {
            "metadata": {},
            "cell_type": "code",
            "source": "",
            "execution_count": null,
            "outputs": []
        }
    ],
    "metadata": {
        "kernelspec": {
            "name": "python3",
            "display_name": "Python 3.9",
            "language": "python"
        },
        "language_info": {
            "name": "python",
            "version": "3.9.12",
            "mimetype": "text/x-python",
            "codemirror_mode": {
                "name": "ipython",
                "version": 3
            },
            "pygments_lexer": "ipython3",
            "nbconvert_exporter": "python",
            "file_extension": ".py"
        }
    },
    "nbformat": 4,
    "nbformat_minor": 1
}
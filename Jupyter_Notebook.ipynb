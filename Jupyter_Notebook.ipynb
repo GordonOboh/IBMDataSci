{
    "cells": [
        {
            "cell_type": "markdown",
            "metadata": {},
            "source": "#### Add your code below following the instructions given in the course"
        },
        {
            "cell_type": "markdown",
            "metadata": {},
            "source": "<h1><center>My Jupyter Notebook on IBM Watson Studio</center></h1>"
        },
        {
            "cell_type": "markdown",
            "metadata": {
                "collapsed": true
            },
            "source": "Name; Gordon Oboh\n\nOccupation; Graduate Assistant"
        },
        {
            "cell_type": "markdown",
            "metadata": {},
            "source": "*I am interested in data science because ...*"
        },
        {
            "cell_type": "markdown",
            "metadata": {},
            "source": "<h3>String Format Method</h3>"
        },
        {
            "cell_type": "code",
            "execution_count": null,
            "metadata": {},
            "outputs": [
                {
                    "data": {
                        "text/plain": "\"it can be '1+1' which gives 2\""
                    },
                    "execution_count": 5,
                    "metadata": {},
                    "output_type": "execute_result"
                }
            ],
            "source": "\"it can be {} which gives {}\".format(\"'1+1'\",1+1)"
        },
        {
            "cell_type": "markdown",
            "metadata": {},
            "source": "***\nBulleted list\n* List 1\n* List 2\n* List 3\n***\nNumbered list\n1. List 1\n2. List 2\n3. List 3\n***\n\n   <strike>Shamless Plug<strike>\n   \n> [My Github, Please Follow](https://github.com/GordonOboh)\n\n\n\n| Horizontal Rule | Bulleted List | Numbered List | Blocked Quotes | Hyperlinks | Strikethrough | Tables |\n|       ---       |      ---      |      ---      |       ---      |     ---    |      ---      |   ---  |\n|        \u2705       |      \u2705      |      \u2705      |       \u2705       |     \u2705     |       \u2705     |   \u2705   |\n\n***\n    \n| Images | Code/Syntax Highlighting |\n|  ---   |            ---           |\n|   \u274c  |            \u274c            |\n"
        }
    ],
    "metadata": {
        "kernelspec": {
            "display_name": "Python 3.9",
            "language": "python",
            "name": "python3"
        },
        "language_info": {
            "codemirror_mode": {
                "name": "ipython",
                "version": 3
            },
            "file_extension": ".py",
            "mimetype": "text/x-python",
            "name": "python",
            "nbconvert_exporter": "python",
            "pygments_lexer": "ipython3",
            "version": "3.9.12"
        }
    },
    "nbformat": 4,
    "nbformat_minor": 1
}
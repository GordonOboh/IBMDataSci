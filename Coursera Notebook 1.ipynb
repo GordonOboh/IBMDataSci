{
    "cells": [
        {
            "cell_type": "markdown",
            "metadata": {},
            "source": "## Marvel Cinematic Universe\nLooking at Budget for all marvel movies and the amount made at the Box office and then Comparing the budget to the amount made at the Box Office."
        },
        {
            "cell_type": "code",
            "execution_count": 2,
            "metadata": {},
            "outputs": [
                {
                    "data": {
                        "text/html": "<div>\n<style scoped>\n    .dataframe tbody tr th:only-of-type {\n        vertical-align: middle;\n    }\n\n    .dataframe tbody tr th {\n        vertical-align: top;\n    }\n\n    .dataframe thead th {\n        text-align: right;\n    }\n</style>\n<table border=\"1\" class=\"dataframe\">\n  <thead>\n    <tr style=\"text-align: right;\">\n      <th></th>\n      <th>Movie</th>\n      <th>Budget</th>\n      <th>Box Office</th>\n      <th>Investment</th>\n    </tr>\n  </thead>\n  <tbody>\n    <tr>\n      <th>0</th>\n      <td>Iron Man 3 (2013)</td>\n      <td>200000000.0</td>\n      <td>1.215000e+09</td>\n      <td>6.075000</td>\n    </tr>\n    <tr>\n      <th>1</th>\n      <td>Thor: The Dark World (2013)</td>\n      <td>160000000.0</td>\n      <td>6.448000e+08</td>\n      <td>4.030000</td>\n    </tr>\n    <tr>\n      <th>2</th>\n      <td>Captain America: The Winter Soldier (2013)</td>\n      <td>173500000.0</td>\n      <td>7.144000e+08</td>\n      <td>4.117579</td>\n    </tr>\n    <tr>\n      <th>3</th>\n      <td>Guardians of the Galaxy Vol. 2 (2014)</td>\n      <td>232300000.0</td>\n      <td>7.728000e+08</td>\n      <td>3.326733</td>\n    </tr>\n    <tr>\n      <th>4</th>\n      <td>Avengers: Age of Ultron (2015)</td>\n      <td>469600000.0</td>\n      <td>1.403000e+09</td>\n      <td>2.987649</td>\n    </tr>\n    <tr>\n      <th>5</th>\n      <td>Ant-Man and the Wasp (2015)</td>\n      <td>149650000.0</td>\n      <td>5.193000e+08</td>\n      <td>3.470097</td>\n    </tr>\n    <tr>\n      <th>6</th>\n      <td>NaN</td>\n      <td>NaN</td>\n      <td>NaN</td>\n      <td>NaN</td>\n    </tr>\n    <tr>\n      <th>7</th>\n      <td>Captain America: Civil War (2016)</td>\n      <td>250000000.0</td>\n      <td>1.153000e+09</td>\n      <td>4.612000</td>\n    </tr>\n    <tr>\n      <th>8</th>\n      <td>Doctor Strange (2016)</td>\n      <td>200800000.0</td>\n      <td>6.778000e+08</td>\n      <td>3.375498</td>\n    </tr>\n    <tr>\n      <th>9</th>\n      <td>Guardians of the Galaxy Vol. 2 (2017)</td>\n      <td>200000000.0</td>\n      <td>8.638000e+08</td>\n      <td>4.319000</td>\n    </tr>\n  </tbody>\n</table>\n</div>",
                        "text/plain": "                                        Movie       Budget    Box Office  \\\n0                           Iron Man 3 (2013)  200000000.0  1.215000e+09   \n1                 Thor: The Dark World (2013)  160000000.0  6.448000e+08   \n2  Captain America: The Winter Soldier (2013)  173500000.0  7.144000e+08   \n3       Guardians of the Galaxy Vol. 2 (2014)  232300000.0  7.728000e+08   \n4              Avengers: Age of Ultron (2015)  469600000.0  1.403000e+09   \n5                 Ant-Man and the Wasp (2015)  149650000.0  5.193000e+08   \n6                                         NaN          NaN           NaN   \n7           Captain America: Civil War (2016)  250000000.0  1.153000e+09   \n8                       Doctor Strange (2016)  200800000.0  6.778000e+08   \n9       Guardians of the Galaxy Vol. 2 (2017)  200000000.0  8.638000e+08   \n\n   Investment  \n0    6.075000  \n1    4.030000  \n2    4.117579  \n3    3.326733  \n4    2.987649  \n5    3.470097  \n6         NaN  \n7    4.612000  \n8    3.375498  \n9    4.319000  "
                    },
                    "execution_count": 2,
                    "metadata": {},
                    "output_type": "execute_result"
                }
            ],
            "source": "# The code was removed by Watson Studio for sharing."
        },
        {
            "cell_type": "code",
            "execution_count": null,
            "metadata": {},
            "outputs": [],
            "source": ""
        }
    ],
    "metadata": {
        "kernelspec": {
            "display_name": "Python 3.9",
            "language": "python",
            "name": "python3"
        },
        "language_info": {
            "codemirror_mode": {
                "name": "ipython",
                "version": 3
            },
            "file_extension": ".py",
            "mimetype": "text/x-python",
            "name": "python",
            "nbconvert_exporter": "python",
            "pygments_lexer": "ipython3",
            "version": "3.9.12"
        }
    },
    "nbformat": 4,
    "nbformat_minor": 1
}